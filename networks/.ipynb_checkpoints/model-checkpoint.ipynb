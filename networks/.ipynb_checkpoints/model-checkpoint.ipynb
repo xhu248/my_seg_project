{
 "cells": [
  {
   "cell_type": "code",
   "execution_count": null,
   "metadata": {},
   "outputs": [],
   "source": [
    "import torch\n",
    "from torch import nn\n",
    "\n",
    "class ClassificationNN(nn.Module):\n",
    "\n",
    "    def __init__(self, num_classes=2):\n",
    "        super(ClassificationNN, self).__init__()\n",
    "\n",
    "        self.conv1 = nn.Conv2d(in_channels=128, out_channels=256, kernel_size=1)\n",
    "        self.conv2 = nn.Conv2d(in_channels=256, out_channels=512, kernel_size=3, stride=2, padding=1)\n",
    "        self.global_max = nn.MaxPool2d(kernel_size=64)\n",
    "        self.global_avg = nn.AvgPool2d(kernel_size=64)\n",
    "        # self.fc = nn.Linear(1024, num_classes)\n",
    "\n",
    "    def forward(self, x):\n",
    "        x = self.conv1(x)\n",
    "        x = self.conv2(x)\n",
    "        x1 = self.global_max(x)\n",
    "        x2 = self.global_avg(x)\n",
    "        x = torch.cat([x1, x2], 1)\n",
    "        # x = torch.flatten(x, 1)\n",
    "        # output = self.fc(x.squeeze())\n",
    "\n",
    "        return x\n"
   ]
  }
 ],
 "metadata": {
  "kernelspec": {
   "display_name": "Python 3",
   "language": "python",
   "name": "python3"
  },
  "language_info": {
   "codemirror_mode": {
    "name": "ipython",
    "version": 3
   },
   "file_extension": ".py",
   "mimetype": "text/x-python",
   "name": "python",
   "nbconvert_exporter": "python",
   "pygments_lexer": "ipython3",
   "version": "3.7.1"
  }
 },
 "nbformat": 4,
 "nbformat_minor": 2
}
