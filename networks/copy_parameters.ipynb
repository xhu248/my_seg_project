{
 "cells": [
  {
   "cell_type": "code",
   "execution_count": 20,
   "metadata": {},
   "outputs": [],
   "source": [
    "import torch\n",
    "from torch import nn"
   ]
  },
  {
   "cell_type": "code",
   "execution_count": 21,
   "metadata": {},
   "outputs": [],
   "source": [
    "class ClassificationNN(nn.Module):\n",
    "\n",
    "    def __init__(self, num_classes=2):\n",
    "        super(ClassificationNN, self).__init__()\n",
    "\n",
    "        self.conv1 = nn.Conv2d(in_channels=128, out_channels=256, kernel_size=1)\n",
    "        self.conv2 = nn.Conv2d(in_channels=256, out_channels=512, kernel_size=3, stride=2, padding=1)\n",
    "        self.global_max = nn.MaxPool2d(kernel_size=64)\n",
    "        self.global_avg = nn.AvgPool2d(kernel_size=64)\n",
    "        self.pooling = nn.MaxPool2d(10)\n",
    "        self.fc = nn.Linear(1024, num_classes)\n",
    "\n",
    "    def forward(self, x):\n",
    "        x1 = self.conv1(x)\n",
    "        x2 = self.conv2(x1)\n",
    "        x3 = self.global_max(x2)\n",
    "        x4 = self.global_avg(x2)\n",
    "        x = torch.cat([x3, x4], 1)\n",
    "        x = torch.flatten(x, 1)\n",
    "        # output = fc(x.squeeze())\n",
    "\n",
    "        return x1, x2"
   ]
  },
  {
   "cell_type": "code",
   "execution_count": 22,
   "metadata": {},
   "outputs": [],
   "source": [
    "class ClassificationUnet(nn.Module):\n",
    "    def __init__(self, num_classes=2, in_channels=1, initial_filter_size=64, kernel_size=3, num_downs=3, norm_layer=nn.InstanceNorm3d):\n",
    "        super(ClassificationUnet, self).__init__()\n",
    "\n",
    "        self.num_classes = num_classes\n",
    "\n",
    "        block = DownsamplingBlock(in_channels=initial_filter_size * 2 ** (num_downs-1), out_channels=initial_filter_size * 2 ** num_downs,\n",
    "                                             kernel_size=kernel_size, norm_layer=norm_layer)\n",
    "\n",
    "        for i in range(1, num_downs):\n",
    "            block = DownsamplingBlock(in_channels=initial_filter_size * 2 ** (num_downs-(i+1)),\n",
    "                                      out_channels=initial_filter_size * 2 ** (num_downs-i),\n",
    "                                      kernel_size=kernel_size, submodule=block, norm_layer=norm_layer)\n",
    "\n",
    "        block = DownsamplingBlock(in_channels=in_channels, out_channels=initial_filter_size,\n",
    "                                             kernel_size=kernel_size, submodule=block, norm_layer=norm_layer)\n",
    "\n",
    "        self.model = block\n",
    "        self.fc = nn.Linear(initial_filter_size * 2 ** (num_downs+1), num_classes)\n",
    "\n",
    "    @staticmethod\n",
    "    def pooling(layer, in_channels=None, kernel_size=None):\n",
    "        global_max = nn.MaxPool3d(kernel_size=kernel_size)\n",
    "        global_avg = nn.AvgPool3d(kernel_size=kernel_size)\n",
    "        layer = torch.cat([global_avg(layer), global_max(layer)], 1)\n",
    "        layer = torch.flatten(layer, 1)\n",
    "        return layer\n",
    "\n",
    "    def forward(self, x):\n",
    "        x = self.model(x)\n",
    "        x = self.pooling(x, in_channels=x.size()[1], kernel_size=x.size()[2])\n",
    "\n",
    "        x = self.fc(x)\n",
    "\n",
    "        return x\n",
    "\n",
    "\n",
    "# half part of unet, the extraction path without skipping connection\n",
    "class DownsamplingBlock(nn.Module):\n",
    "    def __init__(self, in_channels=None, out_channels=None, kernel_size=3, submodule=None, norm_layer=nn.InstanceNorm3d):\n",
    "        super(DownsamplingBlock, self).__init__()\n",
    "\n",
    "        pool = nn.MaxPool3d(2, stride=2)\n",
    "        conv1 = self.contract(in_channels=in_channels, out_channels=out_channels, kernel_size=kernel_size,\n",
    "                              norm_layer=norm_layer)\n",
    "        conv2 = self.contract(in_channels=out_channels, out_channels=out_channels, kernel_size=kernel_size,\n",
    "                              norm_layer=norm_layer)\n",
    "        if submodule is None:\n",
    "            down = [conv1, conv2]\n",
    "            model = down\n",
    "        else:\n",
    "            down = [conv1, conv2, pool]\n",
    "            model = down + [submodule]\n",
    "\n",
    "        self.model = nn.Sequential(*model)\n",
    "\n",
    "    @staticmethod\n",
    "    def contract(in_channels, out_channels, kernel_size=3, norm_layer=nn.InstanceNorm3d):\n",
    "        layer = nn.Sequential(\n",
    "            nn.Conv3d(in_channels, out_channels, kernel_size, padding=1),\n",
    "            norm_layer(out_channels),\n",
    "            nn.LeakyReLU(inplace=True))\n",
    "        return layer\n",
    "\n",
    "    def forward(self, x):\n",
    "        return self.model(x)\n"
   ]
  },
  {
   "cell_type": "code",
   "execution_count": 23,
   "metadata": {},
   "outputs": [],
   "source": [
    "model = ClassificationUnet()\n",
    "parameter_dict = model.state_dict()"
   ]
  },
  {
   "cell_type": "code",
   "execution_count": 24,
   "metadata": {},
   "outputs": [
    {
     "name": "stdout",
     "output_type": "stream",
     "text": [
      "<class 'generator'>\n"
     ]
    }
   ],
   "source": [
    "print(type(model.named_parameters()))"
   ]
  },
  {
   "cell_type": "code",
   "execution_count": 29,
   "metadata": {},
   "outputs": [
    {
     "name": "stdout",
     "output_type": "stream",
     "text": [
      "fc.weight tensor([[ 0.0287, -0.0117,  0.0053,  ...,  0.0181, -0.0113, -0.0214],\n",
      "        [ 0.0165,  0.0036,  0.0296,  ..., -0.0178, -0.0224, -0.0264]])\n"
     ]
    }
   ],
   "source": [
    "loss = torch.tensor([0]).float()\n",
    "for name, param in model.named_parameters():\n",
    "    if \"fc.weight\" in name:\n",
    "        weight = param.data\n",
    "        loss += torch.sum(weight * weight)\n",
    "        print(name, param.data)"
   ]
  },
  {
   "cell_type": "code",
   "execution_count": 30,
   "metadata": {},
   "outputs": [
    {
     "name": "stdout",
     "output_type": "stream",
     "text": [
      "tensor([0.6722])\n"
     ]
    }
   ],
   "source": [
    "print(loss)"
   ]
  },
  {
   "cell_type": "code",
   "execution_count": 19,
   "metadata": {},
   "outputs": [
    {
     "name": "stdout",
     "output_type": "stream",
     "text": [
      "tensor([[1.8106e-03, 4.0437e-06, 1.4800e-03,  ..., 8.8446e-05, 1.3211e-03,\n",
      "         7.7822e-05],\n",
      "        [7.6561e-06, 7.6831e-05, 2.4072e-04,  ..., 1.7067e-03, 3.2952e-04,\n",
      "         6.9047e-05]])\n",
      "torch.FloatTensor\n"
     ]
    }
   ],
   "source": [
    "l2_loss = weight*weight\n",
    "beta = 2\n",
    "l2_loss = beta*l2_loss\n",
    "print(l2_loss)\n",
    "l2_loss = torch.sum(l2_loss)\n",
    "print(l2_loss.type())"
   ]
  },
  {
   "cell_type": "code",
   "execution_count": null,
   "metadata": {},
   "outputs": [],
   "source": []
  }
 ],
 "metadata": {
  "kernelspec": {
   "display_name": "Python 3",
   "language": "python",
   "name": "python3"
  },
  "language_info": {
   "codemirror_mode": {
    "name": "ipython",
    "version": 3
   },
   "file_extension": ".py",
   "mimetype": "text/x-python",
   "name": "python",
   "nbconvert_exporter": "python",
   "pygments_lexer": "ipython3",
   "version": "3.7.1"
  }
 },
 "nbformat": 4,
 "nbformat_minor": 2
}
